{
 "cells": [
  {
   "cell_type": "code",
   "execution_count": 3,
   "id": "ba70f8bc",
   "metadata": {},
   "outputs": [
    {
     "name": "stdout",
     "output_type": "stream",
     "text": [
      "Search successfully performed. Moved to the next page.\n"
     ]
    }
   ],
   "source": [
    "from selenium import webdriver\n",
    "from selenium.webdriver.common.keys import Keys\n",
    "from selenium.webdriver.common.by import By\n",
    "from selenium.webdriver.support.ui import WebDriverWait\n",
    "from selenium.webdriver.support import expected_conditions as EC\n",
    "from selenium.webdriver.common.action_chains import ActionChains\n",
    "\n",
    "# Define search parameters\n",
    "destination = \"İstanbul\"\n",
    "departure = \"İzmir\"\n",
    "date = \"2023-12-15\"\n",
    "return_date = \"2023-12-20\"\n",
    "passenger_count = 2\n",
    "\n",
    "#Chrome browser\n",
    "driver = webdriver.Chrome()\n",
    "\n",
    "# Open the www.enuygun.com \n",
    "driver.get(\"https://www.enuygun.com/\")\n",
    "\n",
    "# Set 'From' input field\n",
    "from_parent_div = WebDriverWait(driver, 2).until(\n",
    "    EC.presence_of_element_located((By.CLASS_NAME, 'AutoSuggestion-module_auto-suggestion__OYLMb'))\n",
    ")\n",
    "from_input = from_parent_div.find_element(By.CSS_SELECTOR, 'input[role=\"combobox\"]')\n",
    "driver.execute_script(f\"arguments[0].value = '{departure}';\", from_input)\n",
    "\n",
    "# Set 'To' input field\n",
    "to_input = WebDriverWait(driver, 2).until(\n",
    "    EC.presence_of_element_located((By.CSS_SELECTOR, 'div[data-testid=\"endesign-flight-destination-autosuggestion\"] input[role=\"combobox\"]'))\n",
    ")\n",
    "from_input.click()\n",
    "driver.execute_script(f\"arguments[0].value = '{destination}';\", to_input)\n",
    "\n",
    "# Perform click actions for 'From' and 'To' inputs\n",
    "action_chains = ActionChains(driver)\n",
    "action_chains.move_to_element(from_input).click().send_keys(Keys.DOWN).send_keys(Keys.RETURN).perform()\n",
    "action_chains.move_to_element(to_input).click().send_keys(Keys.DOWN).send_keys(Keys.RETURN).perform()\n",
    "\n",
    "# Set departure date\n",
    "departure_date_input = WebDriverWait(driver, 2).until(\n",
    "    EC.presence_of_element_located((By.CSS_SELECTOR, 'div[data-testid=\"enuygun-homepage-flight-departureDate-datepicker\"] input[name=\"departureDate\"]'))\n",
    ")\n",
    "driver.execute_script(f\"arguments[0].value = '{date}';\", departure_date_input)\n",
    "\n",
    "# Set return date\n",
    "return_date_input = WebDriverWait(driver, 2).until(\n",
    "    EC.presence_of_element_located((By.CSS_SELECTOR, 'div[data-testid=\"enuygun-homepage-flight-returnDate-datepicker\"] input[name=\"returnDate\"]'))\n",
    ")\n",
    "driver.execute_script(f\"arguments[0].value = '{return_date}';\", return_date_input)\n",
    "\n",
    "# Select 'Non-stop' option\n",
    "non_stop_input = WebDriverWait(driver, 2).until(\n",
    "    EC.presence_of_element_located((By.CSS_SELECTOR, 'div[class=\"Flight-module_checkboxWrapper__FlJ4S\"] label[data-testid=\"flight-oneWayCheckbox-label\"]'))\n",
    ")\n",
    "non_stop_input.click()\n",
    "\n",
    "# Set passenger count\n",
    "passenger_count_input = WebDriverWait(driver, 2).until(\n",
    "    EC.presence_of_element_located((By.CSS_SELECTOR, 'div[data-testid=\"enuygun-homepage-flight-selectPassengerAndCabin\"] input[data-testid=\"undefined-popover-button\"]'))\n",
    ")\n",
    "passenger_count_input.send_keys(str(passenger_count))\n",
    "\n",
    "# Click the search button\n",
    "search_button = WebDriverWait(driver, 10).until(\n",
    "    EC.presence_of_element_located((By.CSS_SELECTOR, 'button[data-testid=\"enuygun-homepage-flight-submitButton\"]'))\n",
    ")\n",
    "search_button.click()\n",
    "\n",
    "# Print success message\n",
    "print(\"Search successfully performed. Moved to the next page.\")\n"
   ]
  },
  {
   "cell_type": "code",
   "execution_count": null,
   "id": "811bccb1",
   "metadata": {},
   "outputs": [],
   "source": []
  },
  {
   "cell_type": "code",
   "execution_count": null,
   "id": "8ea67658",
   "metadata": {},
   "outputs": [],
   "source": []
  }
 ],
 "metadata": {
  "kernelspec": {
   "display_name": "Python 3 (ipykernel)",
   "language": "python",
   "name": "python3"
  },
  "language_info": {
   "codemirror_mode": {
    "name": "ipython",
    "version": 3
   },
   "file_extension": ".py",
   "mimetype": "text/x-python",
   "name": "python",
   "nbconvert_exporter": "python",
   "pygments_lexer": "ipython3",
   "version": "3.12.1"
  }
 },
 "nbformat": 4,
 "nbformat_minor": 5
}
